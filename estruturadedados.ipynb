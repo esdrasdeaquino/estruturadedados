{
 "cells": [
  {
   "cell_type": "markdown",
   "id": "460554f7",
   "metadata": {},
   "source": [
    "## Esdras Santana de Lima"
   ]
  },
  {
   "cell_type": "code",
   "execution_count": 17,
   "id": "0195cad8",
   "metadata": {},
   "outputs": [],
   "source": [
    "from collections import defaultdict, deque"
   ]
  },
  {
   "cell_type": "markdown",
   "id": "53ae1ccb",
   "metadata": {},
   "source": [
    "## Definição classe Graph"
   ]
  },
  {
   "cell_type": "code",
   "execution_count": 18,
   "id": "adbd2d36",
   "metadata": {},
   "outputs": [],
   "source": [
    "aux1 = 0\n",
    "aux2 = 0\n",
    "aux3 = 0\n",
    "\n",
    "\n",
    "class Graph:\n",
    "    \n",
    "    def __init__(self, vertices):\n",
    "        self.vertices = vertices  # Número de vértices do grafo\n",
    "        self.graph_matrix = [[0] * vertices for _ in range(vertices)]  # Matriz de adjacência do grafo\n",
    "        self.graph_dict = defaultdict(list)  # Lista de adjacência do grafo usando um dicionário\n",
    "\n",
    "    def add_edge(self, u, v):\n",
    "        self.graph_matrix[u][v] = 1  # Atualiza a matriz de adjacência\n",
    "        self.graph_dict[u].append(v)  # Atualiza a lista de adjacência\n",
    "\n",
    "    def load_graph_from_file(self, filename):\n",
    "        with open(filename, 'r') as file:\n",
    "            lines = file.readlines()\n",
    "            for line in lines:\n",
    "                u, v = map(int, line.strip().split())  # Lê as arestas do arquivo e adiciona ao grafo\n",
    "                self.add_edge(u, v)\n",
    "\n",
    "    def print_adjacency_matrix(self):\n",
    "        for row in self.graph_matrix:\n",
    "            print(row)\n",
    "\n",
    "    def bfs(self, s, t):\n",
    "        visited = [False] * self.vertices\n",
    "        queue = deque()  \n",
    "        parent = [-1] * self.vertices \n",
    "\n",
    "        queue.append(s) \n",
    "        visited[s] = True\n",
    "\n",
    "        while queue:\n",
    "            u = queue.popleft()\n",
    "            for v in self.graph_dict[u]:\n",
    "                if not visited[v]:\n",
    "                    queue.append(v)\n",
    "                    visited[v] = True\n",
    "                    parent[v] = u \n",
    "\n",
    "        path = []\n",
    "        current = t\n",
    "        while current != -1:\n",
    "            path.append(current)\n",
    "            current = parent[current]\n",
    "\n",
    "        if path[-1] == s:\n",
    "            path.reverse()\n",
    "            print(\"Caminho entre os vértices:\", path) \n",
    "        else:\n",
    "            print(\"Não há caminho entre os vértices.\")\n",
    "\n",
    "    def dfs(self, s, t):\n",
    "        visited = [False] * self.vertices \n",
    "        stack = [] \n",
    "        parent = [-1] * self.vertices \n",
    "\n",
    "        stack.append(s) \n",
    "\n",
    "        while stack:\n",
    "            u = stack.pop()\n",
    "            if not visited[u]:\n",
    "                visited[u] = True\n",
    "                for v in self.graph_dict[u]:\n",
    "                    if not visited[v]:\n",
    "                        stack.append(v) \n",
    "                        parent[v] = u \n",
    "\n",
    "        path = []\n",
    "        current = t\n",
    "        while current != -1:\n",
    "            path.append(current)\n",
    "            current = parent[current]\n",
    "\n",
    "        if path[-1] == s:\n",
    "            path.reverse()\n",
    "            print(\"Caminho entre os vértices:\", path) \n",
    "        else:\n",
    "            print(\"Não há caminho entre os vértices.\") "
   ]
  },
  {
   "cell_type": "markdown",
   "id": "4c177157",
   "metadata": {},
   "source": [
    "## Exemplo a partir de um txt"
   ]
  },
  {
   "cell_type": "code",
   "execution_count": 19,
   "id": "7fda6446",
   "metadata": {},
   "outputs": [
    {
     "name": "stdout",
     "output_type": "stream",
     "text": [
      "[0, 1, 1, 0, 0]\n",
      "[0, 0, 0, 1, 0]\n",
      "[0, 0, 0, 0, 1]\n",
      "[0, 0, 0, 0, 1]\n",
      "[0, 0, 0, 0, 0]\n",
      "\n",
      "BFS:\n",
      "Caminho entre os vértices: [0, 2, 4]\n",
      "\n",
      "DFS:\n",
      "Caminho entre os vértices: [0, 2, 4]\n"
     ]
    }
   ],
   "source": [
    "g = Graph(5)\n",
    "g.load_graph_from_file(\"grafo.txt.txt\")  # Substitua \"grafo.txt\" pelo nome do seu arquivo\n",
    "g.print_adjacency_matrix()\n",
    "\n",
    "print(\"\\nBFS:\")\n",
    "g.bfs(0, 4)\n",
    "\n",
    "print(\"\\nDFS:\")\n",
    "g.dfs(0, 4)"
   ]
  }
 ],
 "metadata": {
  "kernelspec": {
   "display_name": "Python 3 (ipykernel)",
   "language": "python",
   "name": "python3"
  },
  "language_info": {
   "codemirror_mode": {
    "name": "ipython",
    "version": 3
   },
   "file_extension": ".py",
   "mimetype": "text/x-python",
   "name": "python",
   "nbconvert_exporter": "python",
   "pygments_lexer": "ipython3",
   "version": "3.11.1"
  }
 },
 "nbformat": 4,
 "nbformat_minor": 5
}
