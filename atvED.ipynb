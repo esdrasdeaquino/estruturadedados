{
 "cells": [
  {
   "cell_type": "code",
   "execution_count": 18,
   "id": "955060c3",
   "metadata": {},
   "outputs": [],
   "source": [
    "import random\n",
    "\n",
    "class HashDupla:\n",
    "    def __init__(self, tamanho):\n",
    "        self.tamanho = tamanho\n",
    "        self.primeiro_nivel = [None] * 10\n",
    "        self.segundo_nivel = [None] * (tamanho // 10)\n",
    "\n",
    "    def Hash1(self, chave):\n",
    "        return hash(chave) % 10\n",
    "\n",
    "    def Hash2(self, chave):\n",
    "        return hash(chave) % (self.tamanho // 10)\n",
    "\n",
    "    def Inserir(self, chave, dados):\n",
    "        hash1 = self.Hash1(chave)\n",
    "        hash2 = self.Hash2(chave)\n",
    "        \n",
    "        if self.primeiro_nivel[hash1] is None:\n",
    "            self.primeiro_nivel[hash1] = [None] * (self.tamanho // 10)\n",
    "        \n",
    "        if self.segundo_nivel[hash2] is None:\n",
    "            self.segundo_nivel[hash2] = []\n",
    "\n",
    "        self.segundo_nivel[hash2].append((chave, dados))\n",
    "\n",
    "    def Recuperar(self, chave):\n",
    "        hash1 = self.Hash1(chave)\n",
    "        hash2 = self.Hash2(chave)\n",
    "\n",
    "        if self.primeiro_nivel[hash1] is not None and self.segundo_nivel[hash2] is not None:\n",
    "            for c, dados in self.segundo_nivel[hash2]:\n",
    "                if c == chave:\n",
    "                    return dados\n",
    "        return None"
   ]
  },
  {
   "cell_type": "code",
   "execution_count": 22,
   "id": "e03ef40e",
   "metadata": {},
   "outputs": [
    {
     "name": "stdout",
     "output_type": "stream",
     "text": [
      "Digite um cpf para procurar: 123456789\n",
      "Informações da pessoa com CPF 123456789: {'Nome': 'Maria', 'Idade': 25, 'Cidade': 'Rio de Janeiro'}\n"
     ]
    }
   ],
   "source": [
    "tabela = HashDupla(100)\n",
    "tabela.Inserir(144522314, {\"Nome\": \"Esdras\",\"Idade\": 25, \"Cidade\": \"Recife\"})      \n",
    "tabela.Inserir(123456789, {\"Nome\": \"Maria\", \"Idade\": 25, \"Cidade\": \"Rio de Janeiro\"})\n",
    "tabela.Inserir(555555555, {\"Nome\": \"Carlos\", \"Idade\": 40, \"Cidade\": \"Belo Horizonte\"})\n",
    "cpf = int(input(\"Digite um cpf para procurar: \"))\n",
    "informacoes = tabela.Recuperar(cpf)\n",
    "\n",
    "if informacoes:\n",
    "    print(f\"Informações da pessoa com CPF {cpf}: {informacoes}\")\n",
    "else:\n",
    "    print(f\"Pessoa com CPF {cpf} não encontrada.\")\n",
    "\n",
    "\n"
   ]
  },
  {
   "cell_type": "code",
   "execution_count": null,
   "id": "2beba11b",
   "metadata": {},
   "outputs": [],
   "source": []
  }
 ],
 "metadata": {
  "kernelspec": {
   "display_name": "Python 3 (ipykernel)",
   "language": "python",
   "name": "python3"
  },
  "language_info": {
   "codemirror_mode": {
    "name": "ipython",
    "version": 3
   },
   "file_extension": ".py",
   "mimetype": "text/x-python",
   "name": "python",
   "nbconvert_exporter": "python",
   "pygments_lexer": "ipython3",
   "version": "3.10.2"
  }
 },
 "nbformat": 4,
 "nbformat_minor": 5
}
